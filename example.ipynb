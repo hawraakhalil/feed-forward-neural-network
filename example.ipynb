{
 "cells": [
  {
   "cell_type": "code",
   "execution_count": 1,
   "metadata": {},
   "outputs": [],
   "source": [
    "from neural_network import NeuralNetwork\n",
    "from build_dataset import build_dataset\n",
    "from sklearn.metrics import accuracy_score\n",
    "import numpy as np"
   ]
  },
  {
   "cell_type": "code",
   "execution_count": null,
   "metadata": {},
   "outputs": [
    {
     "name": "stdout",
     "output_type": "stream",
     "text": [
      "Epoch 1/100, Accuracy: 80.56%\n",
      "Epoch 2/100, Accuracy: 81.86%\n",
      "Epoch 3/100, Accuracy: 82.35%\n",
      "Epoch 4/100, Accuracy: 82.41%\n",
      "Epoch 5/100, Accuracy: 82.54%\n",
      "Epoch 6/100, Accuracy: 82.91%\n",
      "Epoch 7/100, Accuracy: 82.77%\n",
      "Epoch 8/100, Accuracy: 82.81%\n",
      "Epoch 9/100, Accuracy: 83.24%\n",
      "Epoch 10/100, Accuracy: 82.98%\n",
      "Epoch 11/100, Accuracy: 83.13%\n",
      "Epoch 12/100, Accuracy: 83.31%\n",
      "Epoch 13/100, Accuracy: 82.33%\n",
      "Epoch 14/100, Accuracy: 83.46%\n",
      "Epoch 15/100, Accuracy: 83.33%\n",
      "Epoch 16/100, Accuracy: 83.67%\n",
      "Epoch 17/100, Accuracy: 83.59%\n",
      "Epoch 18/100, Accuracy: 83.08%\n",
      "Epoch 19/100, Accuracy: 83.59%\n",
      "Epoch 20/100, Accuracy: 83.54%\n",
      "Epoch 21/100, Accuracy: 83.34%\n",
      "Epoch 22/100, Accuracy: 84.07%\n",
      "Epoch 23/100, Accuracy: 83.97%\n",
      "Epoch 24/100, Accuracy: 84.06%\n",
      "Epoch 25/100, Accuracy: 84.02%\n",
      "Epoch 26/100, Accuracy: 84.01%\n",
      "Epoch 27/100, Accuracy: 84.13%\n",
      "Epoch 28/100, Accuracy: 84.25%\n",
      "Epoch 29/100, Accuracy: 84.11%\n",
      "Epoch 30/100, Accuracy: 84.29%\n",
      "Epoch 31/100, Accuracy: 84.41%\n",
      "Epoch 32/100, Accuracy: 84.12%\n",
      "Epoch 33/100, Accuracy: 84.22%\n",
      "Epoch 34/100, Accuracy: 84.35%\n",
      "Epoch 35/100, Accuracy: 84.00%\n",
      "Epoch 36/100, Accuracy: 84.54%\n",
      "Epoch 37/100, Accuracy: 84.41%\n",
      "Epoch 38/100, Accuracy: 84.21%\n",
      "Epoch 39/100, Accuracy: 84.38%\n",
      "Epoch 40/100, Accuracy: 84.44%\n",
      "Epoch 41/100, Accuracy: 84.60%\n",
      "Epoch 42/100, Accuracy: 84.55%\n",
      "Epoch 43/100, Accuracy: 84.00%\n",
      "Epoch 44/100, Accuracy: 84.82%\n",
      "Epoch 45/100, Accuracy: 84.80%\n",
      "Epoch 46/100, Accuracy: 82.91%\n",
      "Epoch 47/100, Accuracy: 84.72%\n",
      "Epoch 48/100, Accuracy: 84.91%\n",
      "Epoch 49/100, Accuracy: 85.00%\n",
      "Epoch 50/100, Accuracy: 84.84%\n",
      "Epoch 51/100, Accuracy: 84.83%\n",
      "Epoch 52/100, Accuracy: 84.31%\n",
      "Epoch 53/100, Accuracy: 84.86%\n",
      "Epoch 54/100, Accuracy: 84.68%\n",
      "Epoch 55/100, Accuracy: 84.50%\n",
      "Epoch 56/100, Accuracy: 85.06%\n",
      "Epoch 57/100, Accuracy: 85.14%\n",
      "Epoch 58/100, Accuracy: 84.91%\n",
      "Epoch 59/100, Accuracy: 84.84%\n",
      "Epoch 60/100, Accuracy: 84.25%\n",
      "Epoch 61/100, Accuracy: 84.82%\n",
      "Epoch 62/100, Accuracy: 85.22%\n",
      "Epoch 63/100, Accuracy: 84.75%\n",
      "Epoch 64/100, Accuracy: 84.94%\n",
      "Epoch 65/100, Accuracy: 84.30%\n",
      "Epoch 66/100, Accuracy: 85.26%\n",
      "Epoch 67/100, Accuracy: 85.16%\n",
      "Epoch 68/100, Accuracy: 84.43%\n",
      "Epoch 69/100, Accuracy: 85.15%\n",
      "Epoch 70/100, Accuracy: 84.46%\n",
      "Epoch 71/100, Accuracy: 84.97%\n",
      "Epoch 72/100, Accuracy: 84.27%\n",
      "Epoch 73/100, Accuracy: 85.09%\n",
      "Epoch 74/100, Accuracy: 84.90%\n",
      "Epoch 75/100, Accuracy: 84.66%\n",
      "Epoch 76/100, Accuracy: 84.93%\n",
      "Epoch 77/100, Accuracy: 84.93%\n",
      "Epoch 78/100, Accuracy: 85.05%\n",
      "Epoch 79/100, Accuracy: 85.21%\n",
      "Epoch 80/100, Accuracy: 85.23%\n",
      "Epoch 81/100, Accuracy: 84.55%\n",
      "Epoch 82/100, Accuracy: 84.41%\n",
      "Epoch 83/100, Accuracy: 84.17%\n",
      "Epoch 84/100, Accuracy: 85.25%\n",
      "Epoch 85/100, Accuracy: 85.11%\n",
      "Epoch 86/100, Accuracy: 84.76%\n",
      "Epoch 87/100, Accuracy: 85.34%\n",
      "Epoch 88/100, Accuracy: 85.32%\n",
      "Epoch 89/100, Accuracy: 85.24%\n",
      "Epoch 90/100, Accuracy: 85.16%\n",
      "Epoch 91/100, Accuracy: 85.59%\n",
      "Epoch 92/100, Accuracy: 84.99%\n",
      "Epoch 93/100, Accuracy: 85.28%\n",
      "Epoch 94/100, Accuracy: 85.40%\n",
      "Epoch 95/100, Accuracy: 85.66%\n",
      "Epoch 96/100, Accuracy: 85.25%\n",
      "Epoch 97/100, Accuracy: 85.06%\n",
      "Epoch 98/100, Accuracy: 83.66%\n",
      "Epoch 99/100, Accuracy: 84.99%\n",
      "Epoch 100/100, Accuracy: 85.49%\n"
     ]
    }
   ],
   "source": [
    "# build the dataset\n",
    "X_train, X_test, y_train, y_test = build_dataset()\n",
    "\n",
    "# initialize the Neural Network\n",
    "input_size = X_train.shape[1]\n",
    "nn = NeuralNetwork(input_size=input_size, hidden_sizes=[32, 32], output_size=1, learning_rate=0.1)\n",
    "\n",
    "# train the model\n",
    "nn.fit(X_train, y_train, epochs=100, batch_size=128)"
   ]
  },
  {
   "cell_type": "code",
   "execution_count": null,
   "metadata": {},
   "outputs": [
    {
     "name": "stdout",
     "output_type": "stream",
     "text": [
      "Test Set Accuracy: 83.34%\n"
     ]
    }
   ],
   "source": [
    "# make predictions on the test set\n",
    "y_pred = nn.predict(X_test)\n",
    "\n",
    "# calculate accuracy\n",
    "y_pred_labels = (y_pred > 0.5).astype(int)\n",
    "y_true_labels = y_test.astype(int)\n",
    "accuracy = accuracy_score(y_true_labels, y_pred_labels)\n",
    "print(f\"Test Set Accuracy: {accuracy * 100:.2f}%\")"
   ]
  }
 ],
 "metadata": {
  "kernelspec": {
   "display_name": "Python 3",
   "language": "python",
   "name": "python3"
  },
  "language_info": {
   "codemirror_mode": {
    "name": "ipython",
    "version": 3
   },
   "file_extension": ".py",
   "mimetype": "text/x-python",
   "name": "python",
   "nbconvert_exporter": "python",
   "pygments_lexer": "ipython3",
   "version": "3.11.3"
  }
 },
 "nbformat": 4,
 "nbformat_minor": 2
}
